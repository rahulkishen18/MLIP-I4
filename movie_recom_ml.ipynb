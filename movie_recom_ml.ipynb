{
  "nbformat": 4,
  "nbformat_minor": 0,
  "metadata": {
    "colab": {
      "provenance": []
    },
    "kernelspec": {
      "name": "python3",
      "display_name": "Python 3"
    },
    "language_info": {
      "name": "python"
    }
  },
  "cells": [
    {
      "cell_type": "markdown",
      "source": [
        "#Simple Movie Recommendation System"
      ],
      "metadata": {
        "id": "_TGyFmqR0Fpn"
      }
    },
    {
      "cell_type": "markdown",
      "source": [
        "Imports"
      ],
      "metadata": {
        "id": "MemI44m90YrE"
      }
    },
    {
      "cell_type": "code",
      "execution_count": 9,
      "metadata": {
        "id": "vAXq_mZgzwBP"
      },
      "outputs": [],
      "source": [
        "import numpy as np\n",
        "import pandas as pd\n",
        "from surprise import Reader\n",
        "from surprise import KNNWithMeans\n",
        "from surprise import Dataset\n",
        "import pickle\n",
        "from surprise.model_selection import cross_validate\n",
        "from surprise import accuracy, Dataset, SVD\n",
        "from sklearn.model_selection import train_test_split\n",
        "from surprise.model_selection import GridSearchCV\n",
        "from surprise import SVD\n",
        "import random"
      ]
    },
    {
      "cell_type": "markdown",
      "source": [
        "Loading the Data"
      ],
      "metadata": {
        "id": "MzDTXJuG0gXX"
      }
    },
    {
      "cell_type": "code",
      "source": [
        "movie_df_csv = pd.read_csv(\"/content/watched_rated_df.csv\")\n",
        "df_sub = movie_df_csv[['userid','movieid','rating']]\n",
        "train, test = train_test_split(df_sub, test_size=0.2)\n",
        "print(df_sub.head)"
      ],
      "metadata": {
        "colab": {
          "base_uri": "https://localhost:8080/"
        },
        "id": "1bNaK-nf0GL0",
        "outputId": "4381d307-52cd-4ca3-8cd1-0c489e989430"
      },
      "execution_count": 10,
      "outputs": [
        {
          "output_type": "stream",
          "name": "stdout",
          "text": [
            "<bound method NDFrame.head of         userid                           movieid  rating\n",
            "0       122183              raising+arizona+1987       4\n",
            "1        79445                    the+piano+1993       3\n",
            "2        67863                 forrest+gump+1994       4\n",
            "3       179877               101+dalmatians+1996       5\n",
            "4       224353      the+empire+strikes+back+1980       4\n",
            "...        ...                               ...     ...\n",
            "153036  182952                  unbreakable+2000       5\n",
            "153037   40018  theres+something+about+mary+1998       4\n",
            "153038  210126           revolutionary+road+2008       1\n",
            "153039   39098                 forrest+gump+1994       5\n",
            "153040    8828                        42+up+1998       4\n",
            "\n",
            "[153041 rows x 3 columns]>\n"
          ]
        }
      ]
    },
    {
      "cell_type": "markdown",
      "source": [
        "Data Preprocessing"
      ],
      "metadata": {
        "id": "8rpt8Tzg0lTo"
      }
    },
    {
      "cell_type": "code",
      "source": [
        "reader = Reader(rating_scale=(1, 5))    \n",
        "data_train = Dataset.load_from_df(train[['userid','movieid','rating']], reader)\n",
        "trainingSet = data_train.build_full_trainset()"
      ],
      "metadata": {
        "id": "2KtpAVRS0Gr2"
      },
      "execution_count": 11,
      "outputs": []
    },
    {
      "cell_type": "markdown",
      "source": [
        "Training the model"
      ],
      "metadata": {
        "id": "4PSYFN830rp2"
      }
    },
    {
      "cell_type": "code",
      "source": [
        "def rmse(predictions, targets):\n",
        "    return np.sqrt(((predictions - targets) ** 2).mean())\n",
        "\n",
        "param_grid = {\n",
        "\"n_epochs\": [5, 10],\n",
        "\"lr_all\": [0.002, 0.005],\n",
        "\"reg_all\": [0.4, 0.6]\n",
        "}\n",
        "# Get the best params using GridSearchCV\n",
        "gs = GridSearchCV(SVD, param_grid, measures=[\"rmse\"], cv=4)\n",
        "gs.fit(data_train)\n",
        "best_params = gs.best_params[\"rmse\"]\n",
        "print(gs.best_score[\"rmse\"])\n",
        "print(gs.best_params[\"rmse\"])\n",
        "# Extract and train model with best params\n",
        "svd_algo = SVD(n_epochs=best_params['n_epochs'],\n",
        "               lr_all=best_params['lr_all'],\n",
        "               reg_all=best_params['reg_all'])\n",
        "svd_algo.fit(trainingSet)\n",
        "predictions = []\n",
        "actuals = []\n",
        "rmse_val = []\n",
        "for col, row in test.iterrows():\n",
        "   predictions.append(svd_algo.predict(row.userid, row.movieid).est)\n",
        "   actuals.append(row.rating)\n",
        "rmse_val = rmse(np.array(predictions), np.array(actuals))\n",
        "print(\"Test RMSE for SVD : \" + str(rmse_val))"
      ],
      "metadata": {
        "colab": {
          "base_uri": "https://localhost:8080/"
        },
        "id": "1dWRLB5i0KEJ",
        "outputId": "09e794b1-0deb-4f56-dbec-c7231dda7e5f"
      },
      "execution_count": 12,
      "outputs": [
        {
          "output_type": "stream",
          "name": "stdout",
          "text": [
            "0.9662466663081891\n",
            "{'n_epochs': 10, 'lr_all': 0.005, 'reg_all': 0.4}\n",
            "Test RMSE for SVD : 0.9571522718708014\n"
          ]
        }
      ]
    },
    {
      "cell_type": "markdown",
      "source": [
        "Saving the model"
      ],
      "metadata": {
        "id": "REFMGBc80xFx"
      }
    },
    {
      "cell_type": "code",
      "source": [
        "filename = 'SVD_14k'\n",
        "outfile = open(filename,'wb')\n",
        "pickle.dump(svd_algo,outfile)\n",
        "outfile.close()"
      ],
      "metadata": {
        "id": "U2cMHibO0OD1"
      },
      "execution_count": 13,
      "outputs": []
    },
    {
      "cell_type": "markdown",
      "source": [
        "Predicting a movie list for users"
      ],
      "metadata": {
        "id": "YwDnIZob0zHT"
      }
    },
    {
      "cell_type": "code",
      "source": [
        "\"\"\"\n",
        "The following function fetches a list of movies a user has not watched and uses the model to predict what rating \n",
        "they would give to that movie. We then take the top 20 predicted ratings of unwatched movies and recommend them to \n",
        "a particular user. \n",
        "\"\"\"\n",
        "master_movie_list = movie_df_csv['movieid'].unique().tolist()\n",
        "top_20 = movie_df_csv.groupby(['movieid']).mean().rating.sort_values(0, ascending = False)[0:20]\n",
        "top_20_tup = [(top_20.index[i], top_20.values[i]) for i in range(len(top_20.values))]\n",
        "def get_recommendations(userId,model):\n",
        "    if(userId not in movie_df_csv['userid'].values.tolist()):\n",
        "        return random.sample(top_20_tup, len(top_20_tup))\n",
        "    watched_list = movie_df_csv[movie_df_csv['userid'] == userId]['movieid'].unique().tolist()\n",
        "    pred_movies = [i for i in master_movie_list if i not in watched_list]\n",
        "    pred_dict = dict()\n",
        "    for i in pred_movies:\n",
        "        pred_dict[i] = model.predict(userId, i).est\n",
        "    pred_dict = sorted(pred_dict.items(), key=lambda x: -x[1])\n",
        "    if(len(pred_dict) < 20):\n",
        "        return pred_dict\n",
        "    else:\n",
        "        return pred_dict[:20]\n",
        "    return pred_dict\n",
        "print(get_recommendations(122183,svd_algo))"
      ],
      "metadata": {
        "colab": {
          "base_uri": "https://localhost:8080/"
        },
        "id": "mMH5L7oA0Q1C",
        "outputId": "57387cfb-4135-4d7c-a15f-fd6f8e146dcd"
      },
      "execution_count": 14,
      "outputs": [
        {
          "output_type": "stream",
          "name": "stdout",
          "text": [
            "[('the+shawshank+redemption+1994', 4.098211685955927), ('life+is+beautiful+1997', 4.044715808805278), ('the+lives+of+others+2006', 4.041316968038501), ('schindlers+list+1993', 4.038423651077876), ('spirited+away+2001', 4.022538018135133), ('the+deer+hunter+1978', 4.021288879683404), ('seven+samurai+1954', 4.0144943531754915), ('once+upon+a+time+in+the+west+1968', 4.013404728771617), ('midnight+cowboy+1969', 4.0067535199336), ('the+big+sleep+1946', 3.9892455937723073), ('the+dark+knight+2008', 3.9875545487275876), ('harry+potter+and+the+deathly+hallows+part+1+2010', 3.9814972740673564), ('modern+times+1936', 3.979222436618549), ('the+great+escape+1963', 3.974457933972328), ('scarface+1983', 3.9692729725556006), ('midnight+express+1978', 3.967695073262296), ('raise+the+red+lantern+1991', 3.9662465903791806), ('raiders+of+the+lost+ark+1981', 3.9659944527916), ('the+godfather+1972', 3.9649279392386867), ('the+good_+the+bad+and+the+ugly+1966', 3.962613285766666)]\n"
          ]
        },
        {
          "output_type": "stream",
          "name": "stderr",
          "text": [
            "<ipython-input-14-0e34974135a7>:7: FutureWarning: In a future version of pandas all arguments of Series.sort_values will be keyword-only\n",
            "  top_20 = movie_df_csv.groupby(['movieid']).mean().rating.sort_values(0, ascending = False)[0:20]\n"
          ]
        }
      ]
    }
  ]
}